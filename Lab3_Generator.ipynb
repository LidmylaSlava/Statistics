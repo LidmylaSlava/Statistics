{
 "cells": [
  {
   "cell_type": "code",
   "execution_count": 9,
   "metadata": {
    "collapsed": true,
    "deletable": true,
    "editable": true
   },
   "outputs": [],
   "source": [
    "import numpy as np\n",
    "import itertools as it\n",
    "from scipy import  stats as st"
   ]
  },
  {
   "cell_type": "code",
   "execution_count": 10,
   "metadata": {
    "collapsed": false,
    "deletable": true,
    "editable": true
   },
   "outputs": [],
   "source": [
    "n = 800\n",
    "N = 10.0\n",
    "X = np.random.uniform(size=n)\n",
    "X = np.floor(10*X) + 1\n",
    "s = 3\n",
    "#print(X)"
   ]
  },
  {
   "cell_type": "code",
   "execution_count": 11,
   "metadata": {
    "collapsed": false,
    "deletable": true,
    "editable": true
   },
   "outputs": [],
   "source": [
    "W = np.arange(1,N+1)\n",
    "i_vects = []"
   ]
  },
  {
   "cell_type": "code",
   "execution_count": 12,
   "metadata": {
    "collapsed": false,
    "deletable": true,
    "editable": true
   },
   "outputs": [],
   "source": [
    "for i in W:\n",
    "    for j in W:\n",
    "        for k in W:\n",
    "            i_vects.append((i,j,k))"
   ]
  },
  {
   "cell_type": "code",
   "execution_count": 18,
   "metadata": {
    "collapsed": false,
    "deletable": true,
    "editable": true
   },
   "outputs": [],
   "source": [
    "nus_i = []\n",
    "for vect_i in i_vects:\n",
    "    nu = 0\n",
    "    for j in np.arange(0, n-s+1):\n",
    "        if X[j] == vect_i[0] and X[j+1] == vect_i[1] and X[j+2] == vect_i[2]:\n",
    "            nu+=1\n",
    "            #print(vect_i)\n",
    "    nus_i.append(nu)\n",
    "    #print(nu)"
   ]
  },
  {
   "cell_type": "code",
   "execution_count": 14,
   "metadata": {
    "collapsed": false,
    "deletable": true,
    "editable": true
   },
   "outputs": [],
   "source": [
    "nus_ik = np.zeros((len(i_vects),len(W)))\n",
    "for k in np.arange(len(W)):\n",
    "    for i in np.arange(len(i_vects)):\n",
    "        nu = 0\n",
    "        for j in np.arange(0, n-s):\n",
    "            if X[j] == i_vects[i][0] and X[j+1] == i_vects[i][1] and X[j+2] == i_vects[i][2] and X[j+3] == k:\n",
    "                nu+=1\n",
    "        nus_ik[i][k] = nu\n",
    "    "
   ]
  },
  {
   "cell_type": "code",
   "execution_count": 15,
   "metadata": {
    "collapsed": false,
    "deletable": true,
    "editable": true
   },
   "outputs": [],
   "source": [
    "delta = 0 \n",
    "for i in np.arange(len(i_vects)):\n",
    "    for k in np.arange(len(W)):\n",
    "        if nus_i[i] is not 0:\n",
    "            delta += ((nus_ik[i][k] - nus_i[i]/N)**2)/(nus_i[i]/N)"
   ]
  },
  {
   "cell_type": "code",
   "execution_count": 16,
   "metadata": {
    "collapsed": false,
    "deletable": true,
    "editable": true
   },
   "outputs": [
    {
     "name": "stdout",
     "output_type": "stream",
     "text": [
      "4409.33333333\n"
     ]
    },
    {
     "data": {
      "text/plain": [
       "9221.8114367602684"
      ]
     },
     "execution_count": 16,
     "metadata": {},
     "output_type": "execute_result"
    }
   ],
   "source": [
    "print(delta)\n",
    "st.chi2.ppf(0.95, N**s*(N-1))"
   ]
  },
  {
   "cell_type": "code",
   "execution_count": 19,
   "metadata": {
    "collapsed": true,
    "deletable": true,
    "editable": true
   },
   "outputs": [],
   "source": [
    "# гипотеза - случайные числа независимы"
   ]
  },
  {
   "cell_type": "code",
   "execution_count": null,
   "metadata": {
    "collapsed": true
   },
   "outputs": [],
   "source": []
  }
 ],
 "metadata": {
  "kernelspec": {
   "display_name": "Python 2",
   "language": "python",
   "name": "python2"
  },
  "language_info": {
   "codemirror_mode": {
    "name": "ipython",
    "version": 2
   },
   "file_extension": ".py",
   "mimetype": "text/x-python",
   "name": "python",
   "nbconvert_exporter": "python",
   "pygments_lexer": "ipython2",
   "version": "2.7.12"
  },
  "latex_envs": {
   "bibliofile": "biblio.bib",
   "cite_by": "apalike",
   "current_citInitial": 1,
   "eqLabelWithNumbers": true,
   "eqNumInitial": 0
  }
 },
 "nbformat": 4,
 "nbformat_minor": 2
}
