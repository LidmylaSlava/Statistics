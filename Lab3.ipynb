{
 "cells": [
  {
   "cell_type": "code",
   "execution_count": 16,
   "metadata": {
    "collapsed": false
   },
   "outputs": [
    {
     "name": "stdout",
     "output_type": "stream",
     "text": [
      "1386\n",
      "Выборки X и Y - неоднородны\n"
     ]
    }
   ],
   "source": [
    "import scipy.stats as ss\n",
    "import numpy as np\n",
    "\n",
    "\n",
    "# ### 1. Проверка гипотезы однородности\n",
    "\n",
    "#  Критерий пустых блоков\n",
    "\n",
    "n = 4000\n",
    "m = 8000\n",
    "rho = m / n\n",
    "alpha = 1\n",
    "beta = 1.2\n",
    "M = n / (1 + rho)\n",
    "sigma = n * rho**2 / (1 + rho)**3\n",
    "\n",
    "X = ss.expon.rvs(size=n, scale=alpha)\n",
    "Y = ss.expon.rvs(size=m, scale=beta)\n",
    "X = np.append(X, [-1000, 1000]) # add -inf +inf\n",
    "X = np.sort(X)\n",
    "Y = np.sort(Y)\n",
    "\n",
    "intervals = range(0, n + 1)\n",
    "\n",
    "for i in range(1, len(X)):\n",
    "    count = 0\n",
    "    for j in Y:\n",
    "        if (j < X[i]) & (j >= X[i - 1]):\n",
    "            count += 1\n",
    "        intervals[i - 1] = count\n",
    "\n",
    "count_zero = intervals.count(0)\n",
    "critical = M + ss.norm.ppf(0.95) * np.sqrt(sigma)\n",
    "print(count_zero)\n",
    "if count_zero > critical:\n",
    "    print 'Выборки X и Y - неоднородны'\n",
    "else:\n",
    "    print 'Выборки X и Y - однородны'"
   ]
  },
  {
   "cell_type": "code",
   "execution_count": 40,
   "metadata": {
    "collapsed": false
   },
   "outputs": [
    {
     "name": "stdout",
     "output_type": "stream",
     "text": [
      "Critical value:\n",
      "1373.02101604\n"
     ]
    }
   ],
   "source": [
    "print 'Critical value:'\n",
    "print ss.norm.ppf(0.95) * np.sqrt(sigma) + M"
   ]
  },
  {
   "cell_type": "code",
   "execution_count": 20,
   "metadata": {
    "collapsed": false
   },
   "outputs": [
    {
     "name": "stdout",
     "output_type": "stream",
     "text": [
      "Выборки X и Y - однородны\n"
     ]
    }
   ],
   "source": [
    "# <b>Б.</b> Критерий Хи квадрат для проверки Х ~ Pois(2)\n",
    "\n",
    "\n",
    "k = 3  # k в Пуассоне\n",
    "r = 5  # разбиваем до r-1\n",
    "\n",
    "n = [200, 500, 800] # 3 series \n",
    "\n",
    "X = ss.poisson.rvs(2, size=n[0])\n",
    "Y = ss.poisson.rvs(2, size=n[1])\n",
    "Z = ss.poisson.rvs(2, size=n[2])\n",
    "\n",
    "sup = 15\n",
    "intervals = range(0, sup + 1, sup / r)\n",
    "\n",
    "\n",
    "def count_blocks(sample, intervals):\n",
    "    counts = np.zeros(5)\n",
    "    for i in range(0, len(intervals) - 1):\n",
    "        count = 0\n",
    "        for j in sample:\n",
    "            if(j < intervals[i + 1]) & (j >= intervals[i]):\n",
    "                count = count + 1\n",
    "        counts[i] = count\n",
    "    return counts\n",
    "\n",
    "\n",
    "counts_x = count_blocks(X, intervals)\n",
    "counts_y = count_blocks(Y, intervals)\n",
    "counts_z = count_blocks(Z, intervals)\n",
    "counts = np.vstack((counts_x, counts_y, counts_z))\n",
    "delta = 0\n",
    "\n",
    "for i in range(0, k):\n",
    "    for j in range(0, r):\n",
    "        if counts.sum(axis=0)[j] > 0:\n",
    "            delta += counts[i, j]**2 / (n[i] * counts.sum(axis=0)[j])\n",
    "            \n",
    "delta = (delta - 1) * sum(n)\n",
    "\n",
    "if delta > ss.chi2.ppf(0.95, df=(k - 1) * (r - 1)):\n",
    "    print 'Выборки X и Y - неоднородны'\n",
    "else:\n",
    "    print 'Выборки X и Y - однородны'"
   ]
  },
  {
   "cell_type": "code",
   "execution_count": 36,
   "metadata": {
    "collapsed": false
   },
   "outputs": [
    {
     "name": "stdout",
     "output_type": "stream",
     "text": [
      "4.84181423084\n",
      "Critical value:\n",
      "122.10773461\n"
     ]
    }
   ],
   "source": [
    "print delta \n",
    "print 'Critical value:'\n",
    "print ss.chi2.ppf(0.95, df=(k - 1) * (r - 1))"
   ]
  },
  {
   "cell_type": "code",
   "execution_count": 31,
   "metadata": {
    "collapsed": false
   },
   "outputs": [
    {
     "name": "stdout",
     "output_type": "stream",
     "text": [
      "X и Y - независимы\n"
     ]
    }
   ],
   "source": [
    "# ### 2. Проверка гипотезы независимости\n",
    "\n",
    "# Критерий Хи квадрат\n",
    "\n",
    "r = 8\n",
    "k = 15\n",
    "\n",
    "n = 1000\n",
    "X = ss.poisson.rvs(2, size=n)\n",
    "Y = ss.poisson.rvs(5, size=n)\n",
    "\n",
    "sup = 20\n",
    "intervals_x = range(0, sup + 1, sup / r)\n",
    "intervals_y = range(0, sup + 1, sup / k)\n",
    "\n",
    "counts_ij = np.zeros((r, k))\n",
    "\n",
    "for l in range(0, r):\n",
    "    for m in range(0, k):\n",
    "        count_ij = 0\n",
    "        for j in range(0, n):\n",
    "            if (intervals_x[l + 1] > X[j] & intervals_x[l] <= X[j] & intervals_y[m] <= Y[j] & intervals_y[m + 1] > Y[j]):\n",
    "                count_ij = count_ij + 1\n",
    "    counts_ij[l, m] = count_ij\n",
    "\n",
    "counts_i = counts_ij.sum(axis=0)\n",
    "counts_j = counts_ij.sum(axis=1)\n",
    "\n",
    "delta_r_k = 0\n",
    "for i in range(0, len(counts_i)):\n",
    "    for j in range(0, len(counts_j)):\n",
    "        if (counts_j[j] > 0) & (counts_i[i] > 0):\n",
    "            delta_r_k += counts_ij[i, j]**2 / (counts_j[j] * counts_i[i])\n",
    "\n",
    "delta_r_k = (delta_r_k - 1) * n\n",
    "\n",
    "if delta_r_k > ss.chi2.ppf(0.95, df=(k - 1) * (r - 1)):\n",
    "    print \"X и Y - зависимы\"\n",
    "else:\n",
    "    print \"X и Y - независимы\""
   ]
  },
  {
   "cell_type": "code",
   "execution_count": 35,
   "metadata": {
    "collapsed": false
   },
   "outputs": [
    {
     "name": "stdout",
     "output_type": "stream",
     "text": [
      "-1000\n",
      "Critical value:\n",
      "122.10773461\n"
     ]
    }
   ],
   "source": [
    "print delta_r_k\n",
    "print 'Critical value:'\n",
    "print ss.chi2.ppf(0.95, df=(k - 1) * (r - 1))"
   ]
  },
  {
   "cell_type": "code",
   "execution_count": 21,
   "metadata": {
    "collapsed": false
   },
   "outputs": [
    {
     "name": "stdout",
     "output_type": "stream",
     "text": [
      "X и Y - независимы\n"
     ]
    }
   ],
   "source": [
    "# <b>Б.</b> Критерий Спирмана\n",
    "\n",
    "\n",
    "n = 200\n",
    "X = ss.norm.rvs(size=n)\n",
    "Y = ss.norm.rvs(size=n)\n",
    "Xs = np.sort(X)\n",
    "Ys = np.sort(Y)\n",
    "\n",
    "R = np.zeros(n)  # матрица рангов, для 1й выборки\n",
    "S = np.zeros(n)  # матрица рангов, для 2й выборки\n",
    "\n",
    "for i in range(n):\n",
    "    k = np.where(X == Xs[i])[0][0]\n",
    "    R[k] = i + 1\n",
    "\n",
    "    l = np.where(Y == Ys[i])[0][0]\n",
    "    S[l] = i + 1\n",
    "\n",
    "rho = 1.0 - sum([(R[i] - S[i])**2 for i in range(n)]) *     6.0 / (n * (n - 1) * (n + 1))\n",
    "\n",
    "if np.around(rho) == 1:\n",
    "    print \"X и Y - зависимы (строгая прямая линейная зависимость)\"\n",
    "elif np.around(rho) == -1:\n",
    "    print \"X и Y - зависимы (обратная линейная зависимость)\"\n",
    "elif np.around(rho) == 0:\n",
    "    print \"X и Y - независимы\""
   ]
  },
  {
   "cell_type": "code",
   "execution_count": 39,
   "metadata": {
    "collapsed": false
   },
   "outputs": [
    {
     "name": "stdout",
     "output_type": "stream",
     "text": [
      "0.0\n"
     ]
    }
   ],
   "source": [
    "print np.around(rho)"
   ]
  },
  {
   "cell_type": "code",
   "execution_count": 5,
   "metadata": {
    "collapsed": false
   },
   "outputs": [
    {
     "name": "stdout",
     "output_type": "stream",
     "text": [
      "Количество инверсий: 60356\n",
      "Гипотеза принята\n"
     ]
    }
   ],
   "source": [
    "# ### 3. Проверка гипотезы случайности\n",
    "\n",
    "# In[6]:\n",
    "\n",
    "n = 500\n",
    "X = ss.uniform.rvs(size=n)\n",
    "\n",
    "t = 0\n",
    "for i in range(0, n):\n",
    "    for j in range(i, n):\n",
    "        if X[j] < X[i]:\n",
    "            t = t + 1\n",
    "\n",
    "print \"Количество инверсий: %i\" % t\n",
    "\n",
    "if abs(t - n * (n - 1) / 4) >= ss.norm.ppf(0.95) * n * (n**(0.5)) / 6:\n",
    "    print \"Гипотеза отвергнута\"\n",
    "else:\n",
    "    print \"Гипотеза принята\"\n",
    "\n"
   ]
  },
  {
   "cell_type": "code",
   "execution_count": 38,
   "metadata": {
    "collapsed": false
   },
   "outputs": [
    {
     "name": "stdout",
     "output_type": "stream",
     "text": [
      "189394\n",
      "Critical value:\n",
      "8669.13979793\n"
     ]
    }
   ],
   "source": [
    "print abs(t - n * (n - 1) / 4)\n",
    "print 'Critical value:'\n",
    "print ss.norm.ppf(0.95) * n * (n**(0.5)) / 6"
   ]
  },
  {
   "cell_type": "code",
   "execution_count": null,
   "metadata": {
    "collapsed": true
   },
   "outputs": [],
   "source": []
  }
 ],
 "metadata": {
  "kernelspec": {
   "display_name": "Python 2",
   "language": "python",
   "name": "python2"
  },
  "language_info": {
   "codemirror_mode": {
    "name": "ipython",
    "version": 2
   },
   "file_extension": ".py",
   "mimetype": "text/x-python",
   "name": "python",
   "nbconvert_exporter": "python",
   "pygments_lexer": "ipython2",
   "version": "2.7.12"
  }
 },
 "nbformat": 4,
 "nbformat_minor": 2
}
