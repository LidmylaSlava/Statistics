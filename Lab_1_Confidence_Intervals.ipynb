{
 "cells": [
  {
   "cell_type": "code",
   "execution_count": 7,
   "metadata": {
    "collapsed": false,
    "deletable": true,
    "editable": true
   },
   "outputs": [],
   "source": [
    "%matplotlib inline\n",
    "import numpy as np\n",
    "import time \n",
    "import matplotlib as mpl\n",
    "import matplotlib.pyplot as plt\n",
    "import scipy as sp\n",
    "from scipy import stats as st"
   ]
  },
  {
   "cell_type": "markdown",
   "metadata": {
    "deletable": true,
    "editable": true
   },
   "source": [
    "# Task 1\n",
    "Confidence interval for $a$, unknown $\\sigma^{2}$"
   ]
  },
  {
   "cell_type": "code",
   "execution_count": 16,
   "metadata": {
    "code_folding": [],
    "collapsed": false,
    "deletable": true,
    "editable": true
   },
   "outputs": [
    {
     "name": "stdout",
     "output_type": "stream",
     "text": [
      "Length of sample = 100, alpha = 0.05\n",
      "Critical value of t-statistics = 1.98421695151\n",
      "Sample mean = 0.0240086092729, confidence interval: [-0.172483116971, 0.220500335517]\n",
      "Width of interval = 0.392983452487\n",
      "\n",
      "Length of sample = 1000, alpha = 0.05\n",
      "Critical value of t-statistics = 1.96234146113\n",
      "Sample mean = -0.0393120740483, confidence interval: [-0.101492136159, 0.0228679880619]\n",
      "Width of interval = 0.12436012422\n",
      "\n",
      "Length of sample = 10000, alpha = 0.05\n",
      "Critical value of t-statistics = 1.96020126362\n",
      "Sample mean = -0.00100656283781, confidence interval: [-0.0205722641374, 0.0185591384618]\n",
      "Width of interval = 0.0391314025992\n",
      "\n",
      "Length of sample = 100000, alpha = 0.05\n",
      "Critical value of t-statistics = 1.95998770777\n",
      "Sample mean = 0.00644475141131, confidence interval: [0.000261225433491, 0.0126282773891]\n",
      "Width of interval = 0.0123670519556\n",
      "\n"
     ]
    },
    {
     "data": {
      "text/plain": [
       "[<matplotlib.lines.Line2D at 0x7f571cd70c10>]"
      ]
     },
     "execution_count": 16,
     "metadata": {},
     "output_type": "execute_result"
    },
    {
     "data": {
      "image/png": "[encoded data removed]",
      "text/plain": [
       "<matplotlib.figure.Figure at 0x7f571d4c9510>"
      ]
     },
     "metadata": {},
     "output_type": "display_data"
    }
   ],
   "source": [
    "def conf_int_t(n, alpha=0.05):\n",
    "    X = np.random.normal(size=n)\n",
    "    alpha = alpha\n",
    "    mean_x = X.mean()\n",
    "    var_x = X.var()\n",
    "    q_t = st.t.ppf((1-alpha/2), df=(n-1))\n",
    "    #print(st.t.cdf(q_t, df=(n-1))-st.t.cdf(-q_t, df=(n-1)))\n",
    "    eps = q_t*np.sqrt(var_x/(n-1))\n",
    "    #print(eps)\n",
    "    conf_int_t = (mean_x-eps, mean_x+eps)\n",
    "    print('Length of sample = {0}, alpha = {1}'.format(n, alpha))\n",
    "    print('Critical value of t-statistics = {0}'.format(q_t))\n",
    "    print('Sample mean = {0}, confidence interval: [{1}, {2}]'.format(mean_x, conf_int_t[0], conf_int_t[1]))\n",
    "    print('Width of interval = {0}\\n'.format(2*eps))\n",
    "    return 2*eps\n",
    "wids = []\n",
    "lens = [10**k for k in range(2,6)]\n",
    "for length in lens:\n",
    "    wids.append(conf_int_t(length))\n",
    "plt.plot(lens, wids)\n",
    "#xlim = plt.xlim((lens[0], lens[-1]))"
   ]
  },
  {
   "cell_type": "markdown",
   "metadata": {
    "deletable": true,
    "editable": true
   },
   "source": [
    "# Task 2\n",
    "Confidence interval for $a$ in case of unknown distribution"
   ]
  },
  {
   "cell_type": "code",
   "execution_count": 17,
   "metadata": {
    "collapsed": false,
    "deletable": true,
    "editable": true
   },
   "outputs": [
    {
     "name": "stdout",
     "output_type": "stream",
     "text": [
      "0.95\n",
      "Length of sample = 100, alpha = 0.05\n",
      "Critical value of N(0,1) = 1.95996398454\n",
      "Sample mean = -0.0531215254994, confidence interval: [-0.252184067511, 0.145941016512]\n",
      "Width of interval = 0.398125084023\n",
      "\n",
      "0.95\n",
      "Length of sample = 1000, alpha = 0.05\n",
      "Critical value of N(0,1) = 1.95996398454\n",
      "Sample mean = 0.0529767724849, confidence interval: [-0.00793900533823, 0.113892550308]\n",
      "Width of interval = 0.121831555646\n",
      "\n",
      "0.95\n",
      "Length of sample = 10000, alpha = 0.05\n",
      "Critical value of N(0,1) = 1.95996398454\n",
      "Sample mean = 0.00536938715051, confidence interval: [-0.0141258093624, 0.0248645836634]\n",
      "Width of interval = 0.0389903930258\n",
      "\n",
      "0.95\n",
      "Length of sample = 100000, alpha = 0.05\n",
      "Critical value of N(0,1) = 1.95996398454\n",
      "Sample mean = -0.00128649459004, confidence interval: [-0.00749678309518, 0.0049237939151]\n",
      "Width of interval = 0.0124205770103\n",
      "\n"
     ]
    },
    {
     "data": {
      "text/plain": [
       "[<matplotlib.lines.Line2D at 0x7f571d2037d0>]"
      ]
     },
     "execution_count": 17,
     "metadata": {},
     "output_type": "execute_result"
    },
    {
     "data": {
      "image/png": "[encoded data removed]",
      "text/plain": [
       "<matplotlib.figure.Figure at 0x7f571d5d05d0>"
      ]
     },
     "metadata": {},
     "output_type": "display_data"
    }
   ],
   "source": [
    "def conf_int_clt(n, alpha=0.05):\n",
    "    X = np.random.normal(size=n)\n",
    "    alpha = alpha\n",
    "    mean_x = X.mean()\n",
    "    var_x = X.var(ddof=1)\n",
    "    q_clt = st.norm.ppf(0.5+(1-alpha)/2.)\n",
    "    #print(st.norm.cdf(q_clt)-st.norm.cdf(-q_clt)) # tests corectness of percentile\n",
    "    eps = q_clt*np.sqrt(var_x/n)\n",
    "    conf_int_clt = (mean_x-eps, mean_x+eps)\n",
    "    print('Length of sample = {0}, alpha = {1}'.format(n, alpha))\n",
    "    print('Critical value of N(0,1) = {0}'.format(q_clt))\n",
    "    print('Sample mean = {0}, confidence interval: [{1}, {2}]'.format(mean_x, conf_int_clt[0], conf_int_clt[1]))\n",
    "    print('Width of interval = {0}\\n'.format(2*eps))\n",
    "    return 2*eps\n",
    "\n",
    "wids = []\n",
    "lens = [10**k for k in range(2,6)]\n",
    "for length in lens:\n",
    "    wids.append(conf_int_clt(length))\n",
    "plt.plot(lens, wids)\n",
    "#xlim = plt.xlim((lens[0], lens[-1]))"
   ]
  },
  {
   "cell_type": "code",
   "execution_count": 18,
   "metadata": {
    "collapsed": false,
    "deletable": true,
    "editable": true
   },
   "outputs": [],
   "source": [
    "def conf_int_chi2(n, alpha=0.05):\n",
    "    X = np.random.normal(size=n)\n",
    "    alpha = alpha\n",
    "    mean_x = X.mean()\n",
    "    var_x = X.var()\n",
    "    q_chi_left = st.chi2.ppf(alpha/2., df=(n-1))\n",
    "    q_chi_right = st.chi2.ppf(1-alpha/2., df=(n-1))\n",
    "    eps1 = n*var_x/q_chi_right\n",
    "    eps2 = n*var_x/q_chi_left\n",
    "    conf_int_chi = (eps1, eps2)\n",
    "    print('Length of sample = {0}, alpha = {1}'.format(n, alpha))\n",
    "    print('Left critical value of Chi2_(n-1) = {0}, right critical value of Chi2_(n-1) = {1} '.format(q_chi_left, q_chi_right))\n",
    "    print('Сonfidence interval: [{0}, {1}]'.format(conf_int_chi[0], conf_int_chi[1]))\n",
    "    print('Width of interval = {0}\\n'.format(eps2-eps1))\n",
    "    return eps2-eps1\n"
   ]
  },
  {
   "cell_type": "code",
   "execution_count": 19,
   "metadata": {
    "collapsed": false,
    "deletable": true,
    "editable": true
   },
   "outputs": [
    {
     "name": "stdout",
     "output_type": "stream",
     "text": [
      "Length of sample = 100, alpha = 0.05\n",
      "Left critical value of Chi2_(n-1) = 73.3610801913, right critical value of Chi2_(n-1) = 128.421988644 \n",
      "Сonfidence interval: [0.627986056937, 1.09931884948]\n",
      "Width of interval = 0.471332792543\n",
      "\n",
      "Length of sample = 1000, alpha = 0.05\n",
      "Left critical value of Chi2_(n-1) = 913.300998302, right critical value of Chi2_(n-1) = 1088.48706773 \n",
      "Сonfidence interval: [0.916718345352, 1.09255991783]\n",
      "Width of interval = 0.175841572482\n",
      "\n",
      "Length of sample = 10000, alpha = 0.05\n",
      "Left critical value of Chi2_(n-1) = 9723.73223701, right critical value of Chi2_(n-1) = 10278.0563203 \n",
      "Сonfidence interval: [0.992516950859, 1.04909769943]\n",
      "Width of interval = 0.0565807485723\n",
      "\n",
      "Length of sample = 100000, alpha = 0.05\n",
      "Left critical value of Chi2_(n-1) = 99124.3776833, right critical value of Chi2_(n-1) = 100877.410923 \n",
      "Сonfidence interval: [0.99403281059, 1.01161246757]\n",
      "Width of interval = 0.0175796569835\n",
      "\n"
     ]
    }
   ],
   "source": [
    "wids = []\n",
    "lens = [10**k for k in range(2,6)]\n",
    "for length in lens:\n",
    "    wids.append(conf_int_chi2(length))\n",
    "#plt.plot(lens, wids)"
   ]
  },
  {
   "cell_type": "code",
   "execution_count": 6,
   "metadata": {
    "collapsed": false,
    "deletable": true,
    "editable": true
   },
   "outputs": [
    {
     "data": {
      "text/plain": [
       "(700, 2500)"
      ]
     },
     "execution_count": 6,
     "metadata": {},
     "output_type": "execute_result"
    },
    {
     "data": {
      "image/png": "[encoded data removed]",
      "text/plain": [
       "<matplotlib.figure.Figure at 0x7f5729f53990>"
      ]
     },
     "metadata": {},
     "output_type": "display_data"
    }
   ],
   "source": [
    "xs = np.arange(0,3000,0.01)\n",
    "ys = st.chi2.pdf(xs,df=999)\n",
    "plt.plot(xs, ys)\n",
    "plt.xlim(700,2500)"
   ]
  },
  {
   "cell_type": "code",
   "execution_count": null,
   "metadata": {
    "collapsed": true,
    "deletable": true,
    "editable": true
   },
   "outputs": [],
   "source": []
  }
 ],
 "metadata": {
  "kernelspec": {
   "display_name": "Python 2",
   "language": "python",
   "name": "python2"
  },
  "language_info": {
   "codemirror_mode": {
    "name": "ipython",
    "version": 2
   },
   "file_extension": ".py",
   "mimetype": "text/x-python",
   "name": "python",
   "nbconvert_exporter": "python",
   "pygments_lexer": "ipython2",
   "version": "2.7.12"
  },
  "latex_envs": {
   "bibliofile": "biblio.bib",
   "cite_by": "apalike",
   "current_citInitial": 1,
   "eqLabelWithNumbers": true,
   "eqNumInitial": 0
  }
 },
 "nbformat": 4,
 "nbformat_minor": 2
}
