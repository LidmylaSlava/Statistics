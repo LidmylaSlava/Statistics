{
 "cells": [
  {
   "cell_type": "code",
   "execution_count": 23,
   "metadata": {
    "collapsed": false,
    "deletable": true,
    "editable": true
   },
   "outputs": [],
   "source": [
    "%matplotlib inline\n",
    "import numpy as np\n",
    "import time \n",
    "import matplotlib as mpl\n",
    "import matplotlib.pyplot as plt\n",
    "import scipy as sp\n",
    "import seaborn as sns\n",
    "from scipy import stats as st \n",
    "from scipy.stats import ks_2samp\n",
    "%config InlineBackend.figure_format = 'svg' \n",
    "import random\n",
    "import math \n",
    "import gc\n",
    "from scipy.stats import t \n",
    "from scipy.stats import chi2, norm"
   ]
  },
  {
   "cell_type": "markdown",
   "metadata": {
    "deletable": true,
    "editable": true
   },
   "source": [
    "# Task 1\n",
    "Chi Square Test"
   ]
  },
  {
   "cell_type": "code",
   "execution_count": 31,
   "metadata": {
    "collapsed": false,
    "deletable": true,
    "editable": true
   },
   "outputs": [
    {
     "name": "stdout",
     "output_type": "stream",
     "text": [
      "40\n",
      "58\n",
      "169\n",
      "359\n",
      "600\n",
      "970\n",
      "1297\n",
      "1495\n",
      "1491\n",
      "1260\n",
      "993\n",
      "646\n",
      "339\n",
      "155\n",
      "90\n",
      "27\n",
      "11\n",
      "k=16\n",
      "X=13.668558\n",
      "X >= 7.260944\n",
      "Выборка подчиняется стандартному нормальному распределению \n",
      "\n"
     ]
    }
   ],
   "source": [
    "\n",
    "normal = [random.normalvariate(0,1) for x in range(10000)]\n",
    "          \n",
    "#k = round(1+3.322*math.log(len(normal))) #формулa Стэджесса\n",
    "k=20\n",
    "a = min(normal)\n",
    "b = max(normal)\n",
    "\n",
    "delta = (b-a)/k\n",
    "\n",
    "i=0\n",
    "X=0 #статистика\n",
    "b=a+delta\n",
    "while i<=k:\n",
    "    if i==k-2:\n",
    "        b=b+2*delta\n",
    "        k=k-2\n",
    "    f=sum([1 for n in normal if (n>=a) and (n<=b)]) #количество попаданий элементво в отрезок\n",
    "    while f<=10 and b<=max(normal):\n",
    "        b=b+delta\n",
    "        f=sum([1 for n in normal if (n>=a) and (n<=b)])\n",
    "        k-=1\n",
    "\n",
    "    print (f)\n",
    "    p = norm.cdf(b) - norm.cdf(a) #вероятность попадания элементов в отрезок, если распределение - стандатное нормальное \n",
    "    M = len(normal)*p #частота (сколько попало бы элементов в отрезок, если распределение - стандатное нормальное)\n",
    "    X+=((f-M)**2)/M\n",
    "    a=b\n",
    "    b=b+delta\n",
    "    i+=1\n",
    "\n",
    "print ('k='+str(k))\n",
    "if  X>=chi2.ppf(0.05, df = k-1):\n",
    "    print (\"X=%f\" %X)\n",
    "    print (\"X >= %f\" %(chi2.ppf(0.05, df = k-1)))\n",
    "    print (\"Выборка подчиняется стандартному нормальному распределению \\n\")\n",
    "else:\n",
    "    print (\"Выборка HE подчиняется стандартному нормальному распределению \\n\")\n",
    "    \n",
    "\n"
   ]
  },
  {
   "cell_type": "markdown",
   "metadata": {
    "collapsed": true,
    "deletable": true,
    "editable": true
   },
   "source": [
    "# Task 2\n",
    "Empty bin criteria"
   ]
  },
  {
   "cell_type": "code",
   "execution_count": 30,
   "metadata": {
    "collapsed": false,
    "deletable": true,
    "editable": true
   },
   "outputs": [
    {
     "name": "stdout",
     "output_type": "stream",
     "text": [
      "144>126.747167417\n",
      "Выборка не подчиняется равномерному распределению на [-1;1]\n"
     ]
    }
   ],
   "source": [
    "normal = [random.normalvariate(0,1) for x in range(100)]\n",
    "a = min(normal)\n",
    "b = max(normal)\n",
    "\n",
    "z=np.arange(-1,1,0.01)\n",
    "p=[] \n",
    "for n in normal:\n",
    "    if n>-1 and n<1:\n",
    "        k = round((round(n+1, 2))*len(normal))\n",
    "        if p.count(k)==0:\n",
    "            p.append(k)\n",
    "            \n",
    "S = len(z)-len(p)\n",
    "tau = len(z)*math.exp(-len(normal)/len(z))+norm.isf(0.05)*math.sqrt((1-math.exp(-len(normal)/len(z))*(1+len(normal)/len(z)))*len(z)*math.exp(-len(normal)/len(z)))\n",
    "\n",
    "if S>tau:\n",
    "    print (str(S)+'>'+str(tau))\n",
    "    print (\"Выборка не подчиняется равномерному распределению на [-1;1]\")\n",
    "\n",
    "\n"
   ]
  },
  {
   "cell_type": "markdown",
   "metadata": {
    "deletable": true,
    "editable": true
   },
   "source": [
    "# Task 3\n",
    "Kolmogorov-Smirnov Test"
   ]
  },
  {
   "cell_type": "code",
   "execution_count": 32,
   "metadata": {
    "collapsed": false,
    "deletable": true,
    "editable": true
   },
   "outputs": [
    {
     "name": "stdout",
     "output_type": "stream",
     "text": [
      "for n = 100, m = 200:\n",
      "Ks_2sampResult(statistic=0.13500000000000001, pvalue=0.16243375572171687)\n",
      "\n",
      "for n = 1000, m = 2000:\n",
      "Ks_2sampResult(statistic=0.022499999999999964, pvalue=0.88504851709878618)\n",
      "\n",
      "for different means:\n",
      "Ks_2sampResult(statistic=0.70999999999999996, pvalue=1.4076776391721792e-30)\n"
     ]
    }
   ],
   "source": [
    "X1 = np.random.normal(mu, sigma, size=100)\n",
    "Y1 = np.random.normal(mu, sigma, size=200)\n",
    "print('for n = 100, m = 200:')\n",
    "print(ks_2samp(X1,Y1))\n",
    "\n",
    "X2 = np.random.normal(mu, sigma, size=1000)\n",
    "Y2 = np.random.normal(mu, sigma, size=2000)\n",
    "print('\\nfor n = 1000, m = 2000:')\n",
    "print(ks_2samp(X2,Y2))\n",
    "\n",
    "# Rejected: mean1 = 0, mean2 = 2\n",
    "X3 = np.random.normal(0, sigma, size=100)\n",
    "Y3 = np.random.normal(2, sigma, size=200)\n",
    "print('\\nfor different means:')\n",
    "print(ks_2samp(X3,Y3))"
   ]
  },
  {
   "cell_type": "code",
   "execution_count": 27,
   "metadata": {
    "collapsed": false,
    "deletable": true,
    "editable": true
   },
   "outputs": [
    {
     "name": "stdout",
     "output_type": "stream",
     "text": [
      "0.050000<0.166565\n",
      "Две выборки имеют одинаковое распределение \n",
      "\n"
     ]
    }
   ],
   "source": [
    "normal = [random.normalvariate(0,1) for x in range(100)]\n",
    "normal2 = [random.normalvariate(0,1) for x in range(200)]\n",
    "          \n",
    "a = min(normal)\n",
    "b = max(normal)\n",
    "\n",
    "l = np.arange(a+1,b-1,0.05)\n",
    "\n",
    "F1 = lambda x: float(sum([1 for n in normal if (n<x)]))/len(normal) #эргодическая функция распределения\n",
    "F2 = lambda x: float(sum([1 for n in normal2 if (n<x)]))/len(normal2) #эргодическая функция распределения\n",
    "m = max([abs(F1(i)-F2(i)) for i in l])\n",
    "\n",
    "\n",
    "K_l = 1.36*math.sqrt(0.015)#квантиль распределения Колмогорова, l=0.05\n",
    "\n",
    "if m<K_l:\n",
    "    print (\"%f<%f\" %(m, K_l))\n",
    "    print (\"Две выборки имеют одинаковое распределение \\n\")\n",
    "else: \n",
    "    print (\"Выборки подчиняются разным законам распределения \\n\")"
   ]
  },
  {
   "cell_type": "code",
   "execution_count": null,
   "metadata": {
    "collapsed": true
   },
   "outputs": [],
   "source": []
  }
 ],
 "metadata": {
  "kernelspec": {
   "display_name": "Python 3",
   "language": "python",
   "name": "python3"
  },
  "language_info": {
   "codemirror_mode": {
    "name": "ipython",
    "version": 3
   },
   "file_extension": ".py",
   "mimetype": "text/x-python",
   "name": "python",
   "nbconvert_exporter": "python",
   "pygments_lexer": "ipython3",
   "version": "3.5.2"
  }
 },
 "nbformat": 4,
 "nbformat_minor": 2
}
